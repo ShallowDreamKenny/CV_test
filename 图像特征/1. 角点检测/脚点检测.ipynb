{
 "cells": [
  {
   "cell_type": "markdown",
   "source": [
    "![](pic/角点_1.png)\n",
    "\n",
    "### 角点的特征更具特性，更容易被找出来"
   ],
   "metadata": {
    "collapsed": false
   }
  },
  {
   "cell_type": "markdown",
   "source": [
    "# harris角点检测\n",
    "## 基本原理\n",
    "![](pic/基本原理_1.png)"
   ],
   "metadata": {
    "collapsed": false
   }
  },
  {
   "cell_type": "markdown",
   "source": [
    "### 即平移图像中的一部分区域，计算图像平移后的哥哥方向的相似性，进而判断出是否为角点\n",
    "#### 数学公式：\n",
    "![](pic/基本原理_2.png)\n",
    "    对于窗口中的每一个点都遍历一遍，计算该点平移后的结果，并对其进行求和，得到该区域的最终角点检测结果\n",
    "    w(u,v)表示对窗口中不同的点赋予不同的权值，既可以是常数，也可以是高斯加权函数\n"
   ],
   "metadata": {
    "collapsed": false
   }
  },
  {
   "cell_type": "markdown",
   "source": [
    "### 当△x和△y较小时，可以对公式进行泰勒展开在对其近似\n",
    "![](pic/基本原理_3.png)"
   ],
   "metadata": {
    "collapsed": false
   }
  },
  {
   "cell_type": "markdown",
   "source": [
    "### 最终可将原式近似为：\n",
    "![](pic/基本原理_4.png)"
   ],
   "metadata": {
    "collapsed": false
   }
  },
  {
   "cell_type": "markdown",
   "source": [
    "### 化简可得\n",
    "![](pic/基本原理_5.png)\n",
    "#### 本质上为一个椭圆函数，但是椭圆的中点不在坐标原点"
   ],
   "metadata": {
    "collapsed": false
   }
  },
  {
   "cell_type": "markdown",
   "source": [
    "### 因为M为一个实对称矩阵，所以一定可以对其进行对角化，并到到他的特征值（对角化后只有主轴有值，其值为各特征值），即C=0，则无△x*△y项，A=λ1，B=λ2则得到标准椭圆方程\n",
    "## λ1△x^2^ + λ2△y^2 = 1\n",
    "#### 所以最终可将公式化简为标准椭圆方程\n"
   ],
   "metadata": {
    "collapsed": false
   }
  },
  {
   "cell_type": "markdown",
   "source": [
    "![](pic/基本原理_6.png)"
   ],
   "metadata": {
    "collapsed": false
   }
  },
  {
   "cell_type": "markdown",
   "source": [
    "### 可将λ1和λ2分别视作椭圆的两个轴\n",
    "![](pic/基本原理_7.png)"
   ],
   "metadata": {
    "collapsed": false
   }
  },
  {
   "cell_type": "markdown",
   "source": [
    "### 补充： 角点响应R值\n",
    "![](pic/基本原理_8.png)\n",
    "#### R值约等于0表示平坦区域；\n",
    "#### R值小于0为边界区域\n",
    "#### R值大于0位角点"
   ],
   "metadata": {
    "collapsed": false
   }
  },
  {
   "cell_type": "code",
   "execution_count": 7,
   "outputs": [
    {
     "data": {
      "text/plain": "(600, 800, 3)"
     },
     "execution_count": 7,
     "metadata": {},
     "output_type": "execute_result"
    }
   ],
   "source": [
    "import cv2\n",
    "import numpy as np\n",
    "\n",
    "img = cv2.imread(\"./pic/楼房.jpg\")\n",
    "img.shape"
   ],
   "metadata": {
    "collapsed": false
   }
  },
  {
   "cell_type": "markdown",
   "source": [
    "![](pic/cornersize.png)"
   ],
   "metadata": {
    "collapsed": false
   }
  },
  {
   "cell_type": "code",
   "execution_count": 8,
   "outputs": [
    {
     "data": {
      "text/plain": "(600, 800)"
     },
     "execution_count": 8,
     "metadata": {},
     "output_type": "execute_result"
    }
   ],
   "source": [
    "gray = cv2.cvtColor(img,cv2.COLOR_BGR2GRAY)\n",
    "dst = cv2.cornerHarris(gray,2,3,0.04)\n",
    "dst.shape"
   ],
   "metadata": {
    "collapsed": false
   }
  },
  {
   "cell_type": "code",
   "execution_count": 4,
   "outputs": [],
   "source": [
    "img[dst>0.01*dst.max()] = [0,0,255]\n",
    "cv2.imshow(\"dst\",img)\n",
    "cv2.waitKey(0)\n",
    "cv2.destroyAllWindows()"
   ],
   "metadata": {
    "collapsed": false
   }
  }
 ],
 "metadata": {
  "kernelspec": {
   "display_name": "Python 3",
   "language": "python",
   "name": "python3"
  },
  "language_info": {
   "codemirror_mode": {
    "name": "ipython",
    "version": 2
   },
   "file_extension": ".py",
   "mimetype": "text/x-python",
   "name": "python",
   "nbconvert_exporter": "python",
   "pygments_lexer": "ipython2",
   "version": "2.7.6"
  }
 },
 "nbformat": 4,
 "nbformat_minor": 0
}
